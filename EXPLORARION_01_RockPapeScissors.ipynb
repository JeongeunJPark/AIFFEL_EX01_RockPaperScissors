{
 "cells": [
  {
   "cell_type": "markdown",
   "metadata": {},
   "source": [
    "# Exploration 노드 1. 인공지능과 가위바위보 하기\n",
    "\n",
    "## 이 노드의 루브릭\n",
    "1. 이미지 분류기 모델이 성공적으로 만들어졌는가? -> \"트레이닝이 정상적으로 수행되었음\"\n",
    "2. 오버피팅을 극복하기 위한 적절한 시도가 있었는가? -> \"데이터셋의 다양성, 정규화 시도 등이 적절하였음\"\n",
    "3. 분류모델의 test accuracy가 기준 이상 높게 나왔는가? -> \"60% 이상 도달하였음\""
   ]
  },
  {
   "cell_type": "markdown",
   "metadata": {},
   "source": [
    "### 이 루브릭을 바탕으로, 가위바위보를 인식하는 인공지능 모델을 학습시켜 본다."
   ]
  },
  {
   "cell_type": "markdown",
   "metadata": {},
   "source": [
    "#### 데이터 준비 과정!\n",
    "\n",
    "* 좋은 데이터가 좋은 결과를 낳는다. 다양한 각도의 가위/바위/보 사진을 수집하기\n",
    "* 다양한 각도에서 가위/바위/보 사진을 찍고 다른 분들의 데이터도 다운로드받았다."
   ]
  },
  {
   "cell_type": "markdown",
   "metadata": {},
   "source": [
    "> 가위, 바위, 보를 다양한 각도에서 찍어 여러 사람의 데이터를 받더라도 판별할 수 있게끔 준비하였다.\n",
    "> ![다양한 각도를 준비](./PostingPic/screen_long.png)\n",
    "> ![긴 버전의 가위바위](./PostingPic/screen_short.png)"
   ]
  },
  {
   "cell_type": "markdown",
   "metadata": {},
   "source": [
    "1-1. 데이터 준비 : 리사이징, 300개의 내 데이터를 먼저 학습시키기"
   ]
  },
  {
   "cell_type": "code",
   "execution_count": 1,
   "metadata": {},
   "outputs": [
    {
     "name": "stdout",
     "output_type": "stream",
     "text": [
      "리사이징 완료\n"
     ]
    }
   ],
   "source": [
    "from PIL import Image\n",
    "import os, glob\n",
    "\n",
    "# For문으로 한번에 리사이징\n",
    "image_directory = os.getenv(\"HOME\")+\"/SUBMIT_MISSION_GIT/ex1_RPC/ModelPic\"\n",
    "path_pool = \"/Rock\", \"/Scissor\", \"/Paper\"\n",
    "\n",
    "target_size=(28, 28)\n",
    "\n",
    "for path in path_pool:\n",
    "    images=glob.glob(image_directory + path + \"/*.jpg\")\n",
    "    for img in images:\n",
    "        old_img=Image.open(img)\n",
    "        new_img=old_img.resize(target_size, Image.ANTIALIAS)\n",
    "        new_img.save(img, \"JPEG\")\n",
    "\n",
    "print(\"리사이징 완료\")"
   ]
  },
  {
   "cell_type": "markdown",
   "metadata": {},
   "source": [
    "1-2. 데이터 불러와서 학습시키기"
   ]
  },
  {
   "cell_type": "code",
   "execution_count": 2,
   "metadata": {},
   "outputs": [
    {
     "name": "stdout",
     "output_type": "stream",
     "text": [
      "학습 전에 데이터를 넣고, 잘 불러지는지 확인한다\n",
      "학습데이터의 이미지 개수는 300 개 입니다\n",
      "x_train_ (300, 28, 28, 3)\n",
      "y_train_ (300,)\n"
     ]
    }
   ],
   "source": [
    "import numpy as np\n",
    "\n",
    "def load_data(img_path):\n",
    "    # 가위는 0, 바위는 1, 보는 2\n",
    "    numberOfData = 300\n",
    "    imageSize = 28\n",
    "    color = 3\n",
    "    \n",
    "    imgs=np.zeros(numberOfData * imageSize * imageSize * color, dtype=np.int32).reshape(numberOfData, imageSize, imageSize, color)\n",
    "    labels=np.zeros(numberOfData, dtype=np.int32)\n",
    "    \n",
    "    index=0\n",
    "    \n",
    "    for file in glob.iglob(img_path+'/Rock/*.jpg'):\n",
    "        img=np.array(Image.open(file),dtype=np.int32)\n",
    "        imgs[index,:,:,:]=img\n",
    "        labels[index]=0\n",
    "        index=index+1\n",
    "    \n",
    "    for file in glob.iglob(img_path+'/Paper/*.jpg'):\n",
    "        img=np.array(Image.open(file),dtype=np.int32)\n",
    "        imgs[index,:,:,:]=img\n",
    "        labels[index]=0\n",
    "        index=index+1\n",
    "    \n",
    "    for file in glob.iglob(img_path+'/Scissor/*.jpg'):\n",
    "        img=np.array(Image.open(file),dtype=np.int32)\n",
    "        imgs[index,:,:,:]=img\n",
    "        labels[index]=0\n",
    "        index=index+1\n",
    "    \n",
    "    print(\"학습데이터의 이미지 개수는\", index , \"개 입니다\")\n",
    "    return imgs,labels\n",
    "\n",
    "\n",
    "print(\"학습 전에 데이터를 넣고, 잘 불러지는지 확인한다\")\n",
    "image_dir_path = os.getenv(\"HOME\")+ \"/SUBMIT_MISSION_GIT/ex1_RPC/ModelPic\"\n",
    "(x_train, y_train) = load_data(image_dir_path)\n",
    "\n",
    "x_train_norm = x_train/255.0\n",
    "\n",
    "\n",
    "print(\"x_train_\",format(x_train.shape))\n",
    "print(\"y_train_\",format(y_train.shape))"
   ]
  },
  {
   "cell_type": "code",
   "execution_count": 3,
   "metadata": {},
   "outputs": [
    {
     "name": "stdout",
     "output_type": "stream",
     "text": [
      "라벨은? 0\n"
     ]
    },
    {
     "data": {
      "image/png": "[encoded data removed]",
      "text/plain": [
       "<Figure size 432x288 with 1 Axes>"
      ]
     },
     "metadata": {
      "needs_background": "light"
     },
     "output_type": "display_data"
    }
   ],
   "source": [
    "import matplotlib.pyplot as plt\n",
    "\n",
    "plt.imshow(x_train[28])\n",
    "print('라벨은?' , y_train[28])"
   ]
  },
  {
   "cell_type": "markdown",
   "metadata": {},
   "source": [
    "#### 이미지가 잘 들어간 것을 확인했으니, 딥러닝 네트워크를 만들어본다.\n",
    "##### 일단 이전에 만든 손글씨 분류 Sequential 모델과 동일한 설정을 적용해준다 "
   ]
  },
  {
   "cell_type": "code",
   "execution_count": 9,
   "metadata": {},
   "outputs": [
    {
     "name": "stdout",
     "output_type": "stream",
     "text": [
      "Model: \"sequential_3\"\n",
      "_________________________________________________________________\n",
      "Layer (type)                 Output Shape              Param #   \n",
      "=================================================================\n",
      "conv2d_6 (Conv2D)            (None, 26, 26, 16)        448       \n",
      "_________________________________________________________________\n",
      "max_pooling2d_6 (MaxPooling2 (None, 13, 13, 16)        0         \n",
      "_________________________________________________________________\n",
      "conv2d_7 (Conv2D)            (None, 11, 11, 32)        4640      \n",
      "_________________________________________________________________\n",
      "max_pooling2d_7 (MaxPooling2 (None, 5, 5, 32)          0         \n",
      "_________________________________________________________________\n",
      "flatten_3 (Flatten)          (None, 800)               0         \n",
      "_________________________________________________________________\n",
      "dense_6 (Dense)              (None, 32)                25632     \n",
      "_________________________________________________________________\n",
      "dense_7 (Dense)              (None, 3)                 99        \n",
      "=================================================================\n",
      "Total params: 30,819\n",
      "Trainable params: 30,819\n",
      "Non-trainable params: 0\n",
      "_________________________________________________________________\n",
      "Epoch 1/10\n",
      "10/10 [==============================] - 0s 2ms/step - loss: 0.5068 - accuracy: 1.0000\n",
      "Epoch 2/10\n",
      "10/10 [==============================] - 0s 2ms/step - loss: 0.0038 - accuracy: 1.0000\n",
      "Epoch 3/10\n",
      "10/10 [==============================] - 0s 2ms/step - loss: 1.5068e-06 - accuracy: 1.0000\n",
      "Epoch 4/10\n",
      "10/10 [==============================] - 0s 2ms/step - loss: 3.5763e-09 - accuracy: 1.0000\n",
      "Epoch 5/10\n",
      "10/10 [==============================] - 0s 2ms/step - loss: 0.0000e+00 - accuracy: 1.0000\n",
      "Epoch 6/10\n",
      "10/10 [==============================] - 0s 2ms/step - loss: 0.0000e+00 - accuracy: 1.0000\n",
      "Epoch 7/10\n",
      "10/10 [==============================] - 0s 2ms/step - loss: 0.0000e+00 - accuracy: 1.0000\n",
      "Epoch 8/10\n",
      "10/10 [==============================] - 0s 2ms/step - loss: 0.0000e+00 - accuracy: 1.0000\n",
      "Epoch 9/10\n",
      "10/10 [==============================] - 0s 2ms/step - loss: 0.0000e+00 - accuracy: 1.0000\n",
      "Epoch 10/10\n",
      "10/10 [==============================] - 0s 2ms/step - loss: 0.0000e+00 - accuracy: 1.0000\n"
     ]
    },
    {
     "data": {
      "text/plain": [
       "<tensorflow.python.keras.callbacks.History at 0x7fed14e47c50>"
      ]
     },
     "execution_count": 9,
     "metadata": {},
     "output_type": "execute_result"
    }
   ],
   "source": [
    "import tensorflow as tf\n",
    "from tensorflow import keras\n",
    "import numpy as np\n",
    "import os, glob\n",
    "\n",
    "RPC = keras.models.Sequential()\n",
    "RPC.add(keras.layers.Conv2D(16,(3,3), activation='relu',input_shape=(28,28,3)))\n",
    "RPC.add(keras.layers.MaxPool2D(2,2))\n",
    "RPC.add(keras.layers.Conv2D(32, (3,3),activation='relu'))\n",
    "RPC.add(keras.layers.MaxPooling2D(2,2))\n",
    "RPC.add(keras.layers.Flatten())\n",
    "RPC.add(keras.layers.Dense(32, activation='relu'))\n",
    "RPC.add(keras.layers.Dense(3, activation='softmax'))\n",
    "\n",
    "RPC.summary()\n",
    "\n",
    "RPC.compile(optimizer='adam',\n",
    "             loss='sparse_categorical_crossentropy',\n",
    "             metrics=['accuracy'])\n",
    "\n",
    "RPC.fit(x_train_reshaped, y_train, epochs=10) "
   ]
  },
  {
   "cell_type": "markdown",
   "metadata": {},
   "source": [
    "#### 원래라면 이렇게 나와야 하는 것 아닌가요"
   ]
  },
  {
   "cell_type": "markdown",
   "metadata": {},
   "source": [
    "![LMS화면](./PostingPic/LMS.png)"
   ]
  },
  {
   "cell_type": "markdown",
   "metadata": {},
   "source": [
    "~0번 학습(epoch)시키고, 결과를 확인해보니 전부 1.0이 나왔다.\n",
    "분명히 오류같은데, 왜 그런지 원인을 알 수 없는 상황... (안 믿겨서 타자 친 코드를 전부 LMS에 짜놨던 코드로 덮어쓰기해서 돌렸다...)\n",
    "\n",
    "오류를 해결하기 위해 stack overflow에 \"sequential 모델의 accuracy가 1.0이야. 뭔가 잘못된걸까?\" 처럼 물어봤더니 \"음, 너의 사진이 학습하기에 너무 쉬웠나보다!!\" 라고 답변... 확실히 화요일 당일 진행했던 가위/바위/보 사진 데이터는 너무 지저분하고 역광에서 찍은 것이라 이번에 제출을 위해 처음부터 다시 진행하며, 단일 배경 가위/바위/보 모양으로 바꾼 참이었다. 하지만 LMS 커널에서는 너무나 정상적으로 학습되는 모습을 보여주는데...\n",
    "\n",
    "    1. 사진도 바꿔보고\n",
    "    2. LMS에서 확인도 해봤지만\n",
    "   \n",
    "왜 주피터 노트북에서 따로 진행한 모델만 학습 accuracy가 1.0에 달하는걸까? (심지어 loss 확률도 뒤에 +e가 붙어서 더 오류같다..)\n",
    "일단 다른 분들의 test data set을 가져와서 테스트를 진행해보기로 한다. (여기서도 수치가 1.0에 가깝게 나오면 정말 뭔가 오류가 있는거다!라는 생각으로...)\n",
    "\n",
    "++ 0-질문있어요 에 올렸더니 퍼실님이 train Set이나 validation set이 너무 작아서 그럴 수 있다고 답변해주셨다.\n",
    "일단 다른 분의 데이터로 테스트하는 과정을 거치고, train셋에 더 많은 데이터들을 넣어서 accuracy가 1.0이 아니라 0.nn대로 나오는 지 확인해보려고 한다."
   ]
  },
  {
   "cell_type": "markdown",
   "metadata": {},
   "source": [
    "#### 다른 사람의 데이터로 모델 평가해보기"
   ]
  },
  {
   "cell_type": "code",
   "execution_count": 25,
   "metadata": {},
   "outputs": [
    {
     "name": "stdout",
     "output_type": "stream",
     "text": [
      "학습데이터의 이미지 개수는 300 개 입니다\n",
      "After Reshape - x_test_reshaped shape: (300, 28, 28, 3)\n",
      "10/10 - 0s - loss: 1.1921e-09 - accuracy: 1.0000\n",
      "test_loss: 1.1920927578401574e-09 \n",
      "test_accuracy: 1.0\n"
     ]
    }
   ],
   "source": [
    "test_image_path=os.getenv(\"HOME\") + \"/SUBMIT_MISSION_GIT/ex1_RPC/ModelPic/Test/rock_scissor_paper\"\n",
    "\n",
    "(x_test, y_test)=load_data(test_image_path)\n",
    "x_test_norm=x_test/255.0\n",
    "\n",
    "x_test_reshaped=x_test_norm.reshape( -1, 28, 28,3)\n",
    "print(\"After Reshape - x_test_reshaped shape: {}\".format(x_test_reshaped.shape))\n",
    "\n",
    "test_loss, test_accuracy = RPC.evaluate(x_test_reshaped,y_test,verbose=2)\n",
    "\n",
    "print(\"test_loss: {} \".format(test_loss))\n",
    "print(\"test_accuracy: {}\".format(test_accuracy))"
   ]
  },
  {
   "cell_type": "markdown",
   "metadata": {},
   "source": [
    "어째 모양이 요상하게 나왔다. 과연.. 제대로 된 모델이 맞는 것일까...?\n",
    "문제를 해결하기 위해 학습데이터의 양과 테스트 데이터의 양을 늘려 재시행해보기로 한다."
   ]
  },
  {
   "cell_type": "markdown",
   "metadata": {},
   "source": [
    "## 재시도 (학습데이터 양과, 테스트 데이터 양을 늘리되 서로 겹치지 않는 데이터로)"
   ]
  },
  {
   "cell_type": "code",
   "execution_count": null,
   "metadata": {},
   "outputs": [],
   "source": []
  },
  {
   "cell_type": "code",
   "execution_count": null,
   "metadata": {},
   "outputs": [],
   "source": []
  },
  {
   "cell_type": "code",
   "execution_count": null,
   "metadata": {},
   "outputs": [],
   "source": []
  },
  {
   "cell_type": "code",
   "execution_count": null,
   "metadata": {},
   "outputs": [],
   "source": []
  },
  {
   "cell_type": "code",
   "execution_count": null,
   "metadata": {},
   "outputs": [],
   "source": []
  },
  {
   "cell_type": "code",
   "execution_count": null,
   "metadata": {},
   "outputs": [],
   "source": []
  },
  {
   "cell_type": "code",
   "execution_count": null,
   "metadata": {},
   "outputs": [],
   "source": []
  },
  {
   "cell_type": "code",
   "execution_count": null,
   "metadata": {},
   "outputs": [],
   "source": []
  },
  {
   "cell_type": "code",
   "execution_count": null,
   "metadata": {},
   "outputs": [],
   "source": []
  },
  {
   "cell_type": "code",
   "execution_count": null,
   "metadata": {},
   "outputs": [],
   "source": []
  },
  {
   "cell_type": "code",
   "execution_count": null,
   "metadata": {},
   "outputs": [],
   "source": []
  },
  {
   "cell_type": "code",
   "execution_count": null,
   "metadata": {},
   "outputs": [],
   "source": []
  },
  {
   "cell_type": "code",
   "execution_count": null,
   "metadata": {},
   "outputs": [],
   "source": []
  },
  {
   "cell_type": "code",
   "execution_count": null,
   "metadata": {},
   "outputs": [],
   "source": []
  },
  {
   "cell_type": "code",
   "execution_count": null,
   "metadata": {},
   "outputs": [],
   "source": []
  },
  {
   "cell_type": "code",
   "execution_count": null,
   "metadata": {},
   "outputs": [],
   "source": []
  },
  {
   "cell_type": "code",
   "execution_count": null,
   "metadata": {},
   "outputs": [],
   "source": []
  },
  {
   "cell_type": "code",
   "execution_count": null,
   "metadata": {},
   "outputs": [],
   "source": []
  },
  {
   "cell_type": "code",
   "execution_count": null,
   "metadata": {},
   "outputs": [],
   "source": []
  },
  {
   "cell_type": "code",
   "execution_count": null,
   "metadata": {},
   "outputs": [],
   "source": []
  },
  {
   "cell_type": "code",
   "execution_count": null,
   "metadata": {},
   "outputs": [],
   "source": []
  },
  {
   "cell_type": "code",
   "execution_count": null,
   "metadata": {},
   "outputs": [],
   "source": []
  },
  {
   "cell_type": "code",
   "execution_count": null,
   "metadata": {},
   "outputs": [],
   "source": []
  },
  {
   "cell_type": "code",
   "execution_count": null,
   "metadata": {},
   "outputs": [],
   "source": []
  },
  {
   "cell_type": "code",
   "execution_count": null,
   "metadata": {},
   "outputs": [],
   "source": []
  },
  {
   "cell_type": "code",
   "execution_count": null,
   "metadata": {},
   "outputs": [],
   "source": []
  },
  {
   "cell_type": "code",
   "execution_count": null,
   "metadata": {},
   "outputs": [],
   "source": []
  },
  {
   "cell_type": "code",
   "execution_count": null,
   "metadata": {},
   "outputs": [],
   "source": []
  },
  {
   "cell_type": "code",
   "execution_count": null,
   "metadata": {},
   "outputs": [],
   "source": []
  },
  {
   "cell_type": "code",
   "execution_count": null,
   "metadata": {},
   "outputs": [],
   "source": []
  },
  {
   "cell_type": "code",
   "execution_count": null,
   "metadata": {},
   "outputs": [],
   "source": []
  },
  {
   "cell_type": "code",
   "execution_count": null,
   "metadata": {},
   "outputs": [],
   "source": []
  },
  {
   "cell_type": "code",
   "execution_count": null,
   "metadata": {},
   "outputs": [],
   "source": []
  },
  {
   "cell_type": "code",
   "execution_count": null,
   "metadata": {},
   "outputs": [],
   "source": []
  },
  {
   "cell_type": "code",
   "execution_count": null,
   "metadata": {},
   "outputs": [],
   "source": []
  },
  {
   "cell_type": "code",
   "execution_count": null,
   "metadata": {},
   "outputs": [],
   "source": []
  },
  {
   "cell_type": "code",
   "execution_count": null,
   "metadata": {},
   "outputs": [],
   "source": []
  },
  {
   "cell_type": "code",
   "execution_count": null,
   "metadata": {},
   "outputs": [],
   "source": []
  },
  {
   "cell_type": "code",
   "execution_count": null,
   "metadata": {},
   "outputs": [],
   "source": []
  },
  {
   "cell_type": "code",
   "execution_count": null,
   "metadata": {},
   "outputs": [],
   "source": []
  },
  {
   "cell_type": "code",
   "execution_count": null,
   "metadata": {},
   "outputs": [],
   "source": []
  },
  {
   "cell_type": "code",
   "execution_count": null,
   "metadata": {},
   "outputs": [],
   "source": []
  },
  {
   "cell_type": "code",
   "execution_count": null,
   "metadata": {},
   "outputs": [],
   "source": []
  }
 ],
 "metadata": {
  "kernelspec": {
   "display_name": "aiffel",
   "language": "python",
   "name": "aiffel"
  },
  "language_info": {
   "codemirror_mode": {
    "name": "ipython",
    "version": 3
   },
   "file_extension": ".py",
   "mimetype": "text/x-python",
   "name": "python",
   "nbconvert_exporter": "python",
   "pygments_lexer": "ipython3",
   "version": "3.7.9"
  }
 },
 "nbformat": 4,
 "nbformat_minor": 4
}
