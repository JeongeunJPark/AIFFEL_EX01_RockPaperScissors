{
 "cells": [
  {
   "cell_type": "markdown",
   "metadata": {},
   "source": [
    "# Exploration 노드 1. 인공지능과 가위바위보 하기\n",
    "\n",
    "## 이 노드의 루브릭\n",
    "1. 이미지 분류기 모델이 성공적으로 만들어졌는가? -> \"트레이닝이 정상적으로 수행되었음\"\n",
    "2. 오버피팅을 극복하기 위한 적절한 시도가 있었는가? -> \"데이터셋의 다양성, 정규화 시도 등이 적절하였음\"\n",
    "3. 분류모델의 test accuracy가 기준 이상 높게 나왔는가? -> \"60% 이상 도달하였음\""
   ]
  },
  {
   "cell_type": "markdown",
   "metadata": {},
   "source": [
    "### 이 루브릭을 바탕으로, 가위바위보를 인식하는 인공지능 모델을 학습시켜 본다."
   ]
  },
  {
   "cell_type": "code",
   "execution_count": null,
   "metadata": {},
   "outputs": [],
   "source": []
  }
 ],
 "metadata": {
  "kernelspec": {
   "display_name": "aiffel",
   "language": "python",
   "name": "aiffel"
  },
  "language_info": {
   "codemirror_mode": {
    "name": "ipython",
    "version": 3
   },
   "file_extension": ".py",
   "mimetype": "text/x-python",
   "name": "python",
   "nbconvert_exporter": "python",
   "pygments_lexer": "ipython3",
   "version": "3.7.9"
  }
 },
 "nbformat": 4,
 "nbformat_minor": 4
}
