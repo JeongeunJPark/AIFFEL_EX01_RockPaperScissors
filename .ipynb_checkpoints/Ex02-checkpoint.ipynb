{
 "cells": [
  {
   "cell_type": "code",
   "execution_count": 14,
   "metadata": {},
   "outputs": [
    {
     "name": "stdout",
     "output_type": "stream",
     "text": [
      "학습데이터(x_train)의 이미지 개수는 300 개 입니다\n",
      "X_train shape : {} (300, 28, 28, 3)\n",
      "Y_trian shape : {} (300,)\n"
     ]
    }
   ],
   "source": [
    "from PIL import Image\n",
    "import os, glob\n",
    "import numpy as np\n",
    "\n",
    "def load_data(img_path):\n",
    "    number_of_data = 300\n",
    "    img_size = 28\n",
    "    color = 3\n",
    "    \n",
    "    imgs=np.zeros(number_of_data * img_size * img_size * color,\n",
    "                 dtype=np.int32).reshape(number_of_data, img_size, img_size, color)\n",
    "    labels=np.zeros(number_of_data, dtype=np.int32)\n",
    "    \n",
    "    idx=0\n",
    "    \n",
    "    for file in glob.iglob(img_path+'Scissor/*.jpg'):\n",
    "        img=np.array(Image.open(file),dtype=np.int32)\n",
    "        imgs[idx,:,:,:]=img\n",
    "        labels[idx]=0\n",
    "        idx=idx+1\n",
    "        \n",
    "    for file in glob.iglob(img_path+'Paper/*.jpg'):\n",
    "        img=np.array(Image.open(file),dtype=np.int32)\n",
    "        imgs[idx,:,:,:]=img\n",
    "        labels[idx]=0\n",
    "        idx=idx+1\n",
    "        \n",
    "    for file in glob.iglob(img_path+'Rock/*.jpg'):\n",
    "        img=np.array(Image.open(file),dtype=np.int32)\n",
    "        imgs[idx,:,:,:]=img\n",
    "        labels[idx]=0\n",
    "        idx=idx+1\n",
    "        \n",
    "    print(\"학습데이터(x_train)의 이미지 개수는\", idx, \"개 입니다\")\n",
    "    return imgs, labels\n",
    "\n",
    "\n",
    "image_dir_path = os.getenv(\"HOME\")+\"/SUBMIT_MISSION_GIT/ex1_RPC/RockScissorPaper/\"\n",
    "#image_dir_path = os.getenv(\"HOME\")+\"/MISSIONS_AI/rock_scissor_paper/\"\n",
    "(x_train, y_train) = load_data(image_dir_path)\n",
    "x_train_norm = x_train/255.0\n",
    "\n",
    "print(\"X_train shape : {}\", format(x_train.shape))\n",
    "print(\"Y_trian shape : {}\", format(y_train.shape))\n",
    "        "
   ]
  },
  {
   "cell_type": "code",
   "execution_count": 15,
   "metadata": {},
   "outputs": [
    {
     "name": "stdout",
     "output_type": "stream",
     "text": [
      "라벨 : 0\n"
     ]
    },
    {
     "data": {
      "image/png": "[encoded data removed]",
      "text/plain": [
       "<Figure size 432x288 with 1 Axes>"
      ]
     },
     "metadata": {
      "needs_background": "light"
     },
     "output_type": "display_data"
    }
   ],
   "source": [
    "\n",
    "import matplotlib.pyplot as plt\n",
    "plt.imshow(x_train[28])\n",
    "print('라벨 :', y_train[28])"
   ]
  },
  {
   "cell_type": "code",
   "execution_count": null,
   "metadata": {},
   "outputs": [],
   "source": []
  },
  {
   "cell_type": "code",
   "execution_count": 10,
   "metadata": {},
   "outputs": [
    {
     "name": "stdout",
     "output_type": "stream",
     "text": [
      "학습데이터(x_train)의 이미지 개수는 300 개 입니다\n",
      "X_train shape : {} (300, 28, 28, 3)\n",
      "Y_trian shape : {} (300,)\n",
      "Model: \"sequential_10\"\n",
      "_________________________________________________________________\n",
      "Layer (type)                 Output Shape              Param #   \n",
      "=================================================================\n",
      "conv2d_8 (Conv2D)            (None, 26, 26, 16)        448       \n",
      "_________________________________________________________________\n",
      "max_pooling2d_8 (MaxPooling2 (None, 13, 13, 16)        0         \n",
      "_________________________________________________________________\n",
      "conv2d_9 (Conv2D)            (None, 11, 11, 32)        4640      \n",
      "_________________________________________________________________\n",
      "max_pooling2d_9 (MaxPooling2 (None, 5, 5, 32)          0         \n",
      "_________________________________________________________________\n",
      "flatten_4 (Flatten)          (None, 800)               0         \n",
      "_________________________________________________________________\n",
      "dense_8 (Dense)              (None, 32)                25632     \n",
      "_________________________________________________________________\n",
      "dense_9 (Dense)              (None, 3)                 99        \n",
      "=================================================================\n",
      "Total params: 30,819\n",
      "Trainable params: 30,819\n",
      "Non-trainable params: 0\n",
      "_________________________________________________________________\n",
      "학습데이터(x_train)의 이미지 개수는 0 개 입니다\n",
      "After Reshape - x_train_reshaped shape: (300, 28, 28, 3)\n",
      "Epoch 1/10\n",
      "10/10 [==============================] - 0s 2ms/step - loss: 1.0930 - accuracy: 1.0000\n",
      "Epoch 2/10\n",
      "10/10 [==============================] - 0s 2ms/step - loss: 1.0798 - accuracy: 1.0000\n",
      "Epoch 3/10\n",
      "10/10 [==============================] - 0s 2ms/step - loss: 1.0666 - accuracy: 1.0000\n",
      "Epoch 4/10\n",
      "10/10 [==============================] - 0s 2ms/step - loss: 1.0536 - accuracy: 1.0000\n",
      "Epoch 5/10\n",
      "10/10 [==============================] - 0s 2ms/step - loss: 1.0408 - accuracy: 1.0000\n",
      "Epoch 6/10\n",
      "10/10 [==============================] - 0s 2ms/step - loss: 1.0280 - accuracy: 1.0000\n",
      "Epoch 7/10\n",
      "10/10 [==============================] - 0s 2ms/step - loss: 1.0154 - accuracy: 1.0000\n",
      "Epoch 8/10\n",
      "10/10 [==============================] - 0s 2ms/step - loss: 1.0029 - accuracy: 1.0000\n",
      "Epoch 9/10\n",
      "10/10 [==============================] - 0s 2ms/step - loss: 0.9905 - accuracy: 1.0000\n",
      "Epoch 10/10\n",
      "10/10 [==============================] - 0s 2ms/step - loss: 0.9783 - accuracy: 1.0000\n"
     ]
    },
    {
     "data": {
      "text/plain": [
       "<tensorflow.python.keras.callbacks.History at 0x7f24a019dc90>"
      ]
     },
     "execution_count": 10,
     "metadata": {},
     "output_type": "execute_result"
    }
   ],
   "source": [
    "from PIL import Image\n",
    "import tensorflow as tf\n",
    "from tensorflow import keras\n",
    "import numpy as np\n",
    "import os, glob\n",
    "\n",
    "def load_data(img_path):\n",
    "    number_of_data = 300\n",
    "    img_size = 28\n",
    "    color = 3\n",
    "    \n",
    "    imgs=np.zeros(number_of_data * img_size * img_size * color,\n",
    "                 dtype=np.int32).reshape(number_of_data, img_size, img_size, color)\n",
    "    labels=np.zeros(number_of_data, dtype=np.int32)\n",
    "    \n",
    "    idx=0\n",
    "    \n",
    "    for file in glob.iglob(img_path+'Scissor/*.jpg'):\n",
    "        img=np.array(Image.open(file),dtype=np.int32)\n",
    "        imgs[idx,:,:,:]=img\n",
    "        labels[idx]=0\n",
    "        idx=idx+1\n",
    "        \n",
    "    for file in glob.iglob(img_path+'Paper/*.jpg'):\n",
    "        img=np.array(Image.open(file),dtype=np.int32)\n",
    "        imgs[idx,:,:,:]=img\n",
    "        labels[idx]=0\n",
    "        idx=idx+1\n",
    "        \n",
    "    for file in glob.iglob(img_path+'Rock/*.jpg'):\n",
    "        img=np.array(Image.open(file),dtype=np.int32)\n",
    "        imgs[idx,:,:,:]=img\n",
    "        labels[idx]=0\n",
    "        idx=idx+1\n",
    "        \n",
    "    print(\"학습데이터(x_train)의 이미지 개수는\", idx, \"개 입니다\")\n",
    "    return imgs, labels\n",
    "\n",
    "\n",
    "image_dir_path = os.getenv(\"HOME\")+\"/SUBMIT_MISSION_GIT/ex1_RPC/RockScissorPaper/\"\n",
    "#image_dir_path = os.getenv(\"HOME\")+\"/MISSIONS_AI/rock_scissor_paper/\"\n",
    "(x_train, y_train) = load_data(image_dir_path)\n",
    "x_train_norm = x_train/255.0\n",
    "\n",
    "print(\"X_train shape : {}\", format(x_train.shape))\n",
    "print(\"Y_trian shape : {}\", format(y_train.shape))\n",
    "        \n",
    "\n",
    "RPC = keras.models.Sequential()\n",
    "RPC=keras.models.Sequential()\n",
    "RPC.add(keras.layers.Conv2D(16, (3, 3), activation='relu', input_shape=(28,28,3)))\n",
    "RPC.add(keras.layers.MaxPool2D(2,2))\n",
    "RPC.add(keras.layers.Conv2D(32, (3,3), activation='relu'))\n",
    "RPC.add(keras.layers.MaxPooling2D((2,2)))\n",
    "RPC.add(keras.layers.Flatten())\n",
    "RPC.add(keras.layers.Dense(32, activation='relu'))\n",
    "RPC.add(keras.layers.Dense(3, activation='softmax'))\n",
    "\n",
    "RPC.summary()\n",
    "\n",
    "image_dir_path = os.getenv(\"HOME\")+\"/SUBMIT_MISSION_GIT/ex1_RPC/RockScissorPaper/\"\n",
    "(x_train, y_train)=load_data(image_dir_path)\n",
    "x_train_norm = x_train/255.0\n",
    "\n",
    "x_train_reshaped=x_train_norm.reshape( -1, 28, 28,3)  # 데이터갯수에 -1을 쓰면 reshape시 자동계산됩니다.\n",
    "print(\"After Reshape - x_train_reshaped shape: {}\".format(x_train_reshaped.shape))\n",
    "\n",
    "RPC.compile(optimizer='adam',\n",
    "             loss='sparse_categorical_crossentropy',\n",
    "             metrics=['accuracy'])\n",
    "\n",
    "RPC.fit(x_train_reshaped, y_train, epochs=10)"
   ]
  },
  {
   "cell_type": "code",
   "execution_count": null,
   "metadata": {},
   "outputs": [],
   "source": []
  },
  {
   "cell_type": "code",
   "execution_count": null,
   "metadata": {},
   "outputs": [],
   "source": []
  },
  {
   "cell_type": "code",
   "execution_count": null,
   "metadata": {},
   "outputs": [],
   "source": []
  }
 ],
 "metadata": {
  "kernelspec": {
   "display_name": "Python 3",
   "language": "python",
   "name": "python3"
  },
  "language_info": {
   "codemirror_mode": {
    "name": "ipython",
    "version": 3
   },
   "file_extension": ".py",
   "mimetype": "text/x-python",
   "name": "python",
   "nbconvert_exporter": "python",
   "pygments_lexer": "ipython3",
   "version": "3.7.9"
  }
 },
 "nbformat": 4,
 "nbformat_minor": 4
}
